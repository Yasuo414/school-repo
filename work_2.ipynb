{
 "cells": [
  {
   "cell_type": "code",
   "execution_count": 1,
   "metadata": {},
   "outputs": [],
   "source": [
    "import datetime\n",
    "\n",
    "def find(start, end):\n",
    "    start_ = datetime.datetime.strptime(start, \"%d.%m.%Y\")\n",
    "    end_ = datetime.datetime.strptime(end, \"%d.%m.%Y\")\n",
    "\n",
    "    if start_ > end_:\n",
    "        return \"Chyba: Počáteční datum musí být dříve než koncové datum.\"\n",
    "    \n",
    "    days_mon = (7 - start_.weekday()) % 7\n",
    "    if days_mon == 0:\n",
    "        first_mon = start_\n",
    "    else:\n",
    "        first_mon = start_ + datetime.timedelta(days=days_mon)\n",
    "    \n",
    "    mondays = []\n",
    "    current = first_mon\n",
    "\n",
    "    while current <= end_:\n",
    "        mondays.append(current.strftime(\"%d.%m.%Y\"))\n",
    "        current += datetime.timedelta(days=7)\n",
    "    \n",
    "    return mondays"
   ]
  },
  {
   "cell_type": "code",
   "execution_count": null,
   "metadata": {},
   "outputs": [],
   "source": [
    "start = \"01.05.2023\"\n",
    "end = \"01.06.2023\"\n",
    "print(f\"Pondělky mezi {start} a {end}:\")\n",
    "result = find(start, end)\n",
    "\n",
    "for date in result:\n",
    "        print(date)"
   ]
  }
 ],
 "metadata": {
  "kernelspec": {
   "display_name": "Diff-SVC",
   "language": "python",
   "name": "python3"
  },
  "language_info": {
   "codemirror_mode": {
    "name": "ipython",
    "version": 3
   },
   "file_extension": ".py",
   "mimetype": "text/x-python",
   "name": "python",
   "nbconvert_exporter": "python",
   "pygments_lexer": "ipython3",
   "version": "3.9.21"
  }
 },
 "nbformat": 4,
 "nbformat_minor": 2
}
